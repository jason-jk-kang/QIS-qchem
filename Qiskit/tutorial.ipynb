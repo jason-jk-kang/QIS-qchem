{
 "cells": [
  {
   "cell_type": "code",
   "execution_count": 1,
   "metadata": {},
   "outputs": [],
   "source": [
    "import numpy as np\n",
    "np.random.seed(999999)\n",
    "target_distr = np.random.rand(2)\n",
    "# We now convert the random vector into a valid probability vector\n",
    "target_distr /= sum(target_distr)"
   ]
  },
  {
   "cell_type": "code",
   "execution_count": 2,
   "metadata": {},
   "outputs": [],
   "source": [
    "from qiskit import QuantumCircuit, ClassicalRegister, QuantumRegister\n",
    "def get_var_form(params):\n",
    "    qr = QuantumRegister(1, name=\"q\")\n",
    "    cr = ClassicalRegister(1, name='c')\n",
    "    qc = QuantumCircuit(qr, cr)\n",
    "    qc.u3(params[0], params[1], params[2], qr[0])\n",
    "    qc.measure(qr, cr[0])\n",
    "    return qc"
   ]
  },
  {
   "cell_type": "code",
   "execution_count": 3,
   "metadata": {},
   "outputs": [],
   "source": [
    "from qiskit import Aer, execute\n",
    "backend = Aer.get_backend(\"qasm_simulator\")\n",
    "NUM_SHOTS = 10000\n",
    "\n",
    "def get_probability_distribution(counts):\n",
    "    output_distr = [v / NUM_SHOTS for v in counts.values()]\n",
    "    if len(output_distr) == 1:\n",
    "        output_distr.append(0)\n",
    "    return output_distr\n",
    "\n",
    "def objective_function(params):\n",
    "    # Obtain a quantum circuit instance from the paramters\n",
    "    qc = get_var_form(params)\n",
    "    # Execute the quantum circuit to obtain the probability distribution associated with the current parameters\n",
    "    result = execute(qc, backend, shots=NUM_SHOTS).result()\n",
    "    # Obtain the counts for each measured state, and convert those counts into a probability vector\n",
    "    output_distr = get_probability_distribution(result.get_counts(qc))\n",
    "    # Calculate the cost as the distance between the output distribution and the target distribution\n",
    "    cost = sum([np.abs(output_distr[i] - target_distr[i]) for i in range(2)])\n",
    "    return cost"
   ]
  },
  {
   "cell_type": "code",
   "execution_count": 4,
   "metadata": {},
   "outputs": [
    {
     "name": "stdout",
     "output_type": "stream",
     "text": [
      "Target Distribution: [0.51357006 0.48642994]\n",
      "Obtained Distribution: [0.5242, 0.4758]\n",
      "Output Error (Manhattan Distance): 0.009459881261160819\n",
      "Parameters Found: [1.52609984 1.1134972  0.67987919]\n"
     ]
    }
   ],
   "source": [
    "from qiskit.aqua.components.optimizers import COBYLA\n",
    "\n",
    "# Initialize the COBYLA optimizer\n",
    "optimizer = COBYLA(maxiter=500, tol=0.0001)\n",
    "\n",
    "# Create the initial parameters (noting that our single qubit variational form has 3 parameters)\n",
    "params = np.random.rand(3)\n",
    "ret = optimizer.optimize(num_vars=3, objective_function=objective_function, initial_point=params)\n",
    "\n",
    "# Obtain the output distribution using the final parameters\n",
    "qc = get_var_form(ret[0])\n",
    "counts = execute(qc, backend, shots=NUM_SHOTS).result().get_counts(qc)\n",
    "output_distr = get_probability_distribution(counts)\n",
    "\n",
    "print(\"Target Distribution:\", target_distr)\n",
    "print(\"Obtained Distribution:\", output_distr)\n",
    "print(\"Output Error (Manhattan Distance):\", ret[1])\n",
    "print(\"Parameters Found:\", ret[0])"
   ]
  },
  {
   "cell_type": "code",
   "execution_count": 5,
   "metadata": {},
   "outputs": [
    {
     "name": "stdout",
     "output_type": "stream",
     "text": [
      "=============Linear Entanglement:=============\n"
     ]
    },
    {
     "data": {
      "text/html": [
       "<pre style=\"word-wrap: normal;white-space: pre;background: #fff0;line-height: 1.1;font-family: &quot;Courier New&quot;,Courier,monospace\">     ┌──────────┐┌──────────┐     ┌──────────┐┌───────────┐                          ┌───────────┐»\n",
       "q_0: ┤ RY(θ[0]) ├┤ RZ(θ[4]) ├──■──┤ RY(θ[8]) ├┤ RZ(θ[12]) ├───────────────────■──────┤ RY(θ[16]) ├»\n",
       "     ├──────────┤├──────────┤┌─┴─┐└──────────┘└┬──────────┤┌───────────┐    ┌─┴─┐    └───────────┘»\n",
       "q_1: ┤ RY(θ[1]) ├┤ RZ(θ[5]) ├┤ X ├─────■───────┤ RY(θ[9]) ├┤ RZ(θ[13]) ├────┤ X ├──────────■──────»\n",
       "     ├──────────┤├──────────┤└───┘   ┌─┴─┐     └──────────┘├───────────┤┌───┴───┴───┐    ┌─┴─┐    »\n",
       "q_2: ┤ RY(θ[2]) ├┤ RZ(θ[6]) ├────────┤ X ├──────────■──────┤ RY(θ[10]) ├┤ RZ(θ[14]) ├────┤ X ├────»\n",
       "     ├──────────┤├──────────┤        └───┘        ┌─┴─┐    ├───────────┤├───────────┤    └───┘    »\n",
       "q_3: ┤ RY(θ[3]) ├┤ RZ(θ[7]) ├─────────────────────┤ X ├────┤ RY(θ[11]) ├┤ RZ(θ[15]) ├─────────────»\n",
       "     └──────────┘└──────────┘                     └───┘    └───────────┘└───────────┘             »\n",
       "«     ┌───────────┐                          ┌───────────┐┌───────────┐                          \n",
       "«q_0: ┤ RZ(θ[20]) ├───────────────────■──────┤ RY(θ[24]) ├┤ RZ(θ[28]) ├──────────────────────────\n",
       "«     ├───────────┤┌───────────┐    ┌─┴─┐    └───────────┘├───────────┤┌───────────┐             \n",
       "«q_1: ┤ RY(θ[17]) ├┤ RZ(θ[21]) ├────┤ X ├──────────■──────┤ RY(θ[25]) ├┤ RZ(θ[29]) ├─────────────\n",
       "«     └───────────┘├───────────┤┌───┴───┴───┐    ┌─┴─┐    └───────────┘├───────────┤┌───────────┐\n",
       "«q_2: ──────■──────┤ RY(θ[18]) ├┤ RZ(θ[22]) ├────┤ X ├──────────■──────┤ RY(θ[26]) ├┤ RZ(θ[30]) ├\n",
       "«         ┌─┴─┐    ├───────────┤├───────────┤    └───┘        ┌─┴─┐    ├───────────┤├───────────┤\n",
       "«q_3: ────┤ X ├────┤ RY(θ[19]) ├┤ RZ(θ[23]) ├─────────────────┤ X ├────┤ RY(θ[27]) ├┤ RZ(θ[31]) ├\n",
       "«         └───┘    └───────────┘└───────────┘                 └───┘    └───────────┘└───────────┘</pre>"
      ],
      "text/plain": [
       "     ┌──────────┐┌──────────┐     ┌──────────┐┌───────────┐                          ┌───────────┐»\n",
       "q_0: ┤ RY(θ[0]) ├┤ RZ(θ[4]) ├──■──┤ RY(θ[8]) ├┤ RZ(θ[12]) ├───────────────────■──────┤ RY(θ[16]) ├»\n",
       "     ├──────────┤├──────────┤┌─┴─┐└──────────┘└┬──────────┤┌───────────┐    ┌─┴─┐    └───────────┘»\n",
       "q_1: ┤ RY(θ[1]) ├┤ RZ(θ[5]) ├┤ X ├─────■───────┤ RY(θ[9]) ├┤ RZ(θ[13]) ├────┤ X ├──────────■──────»\n",
       "     ├──────────┤├──────────┤└───┘   ┌─┴─┐     └──────────┘├───────────┤┌───┴───┴───┐    ┌─┴─┐    »\n",
       "q_2: ┤ RY(θ[2]) ├┤ RZ(θ[6]) ├────────┤ X ├──────────■──────┤ RY(θ[10]) ├┤ RZ(θ[14]) ├────┤ X ├────»\n",
       "     ├──────────┤├──────────┤        └───┘        ┌─┴─┐    ├───────────┤├───────────┤    └───┘    »\n",
       "q_3: ┤ RY(θ[3]) ├┤ RZ(θ[7]) ├─────────────────────┤ X ├────┤ RY(θ[11]) ├┤ RZ(θ[15]) ├─────────────»\n",
       "     └──────────┘└──────────┘                     └───┘    └───────────┘└───────────┘             »\n",
       "«     ┌───────────┐                          ┌───────────┐┌───────────┐                          \n",
       "«q_0: ┤ RZ(θ[20]) ├───────────────────■──────┤ RY(θ[24]) ├┤ RZ(θ[28]) ├──────────────────────────\n",
       "«     ├───────────┤┌───────────┐    ┌─┴─┐    └───────────┘├───────────┤┌───────────┐             \n",
       "«q_1: ┤ RY(θ[17]) ├┤ RZ(θ[21]) ├────┤ X ├──────────■──────┤ RY(θ[25]) ├┤ RZ(θ[29]) ├─────────────\n",
       "«     └───────────┘├───────────┤┌───┴───┴───┐    ┌─┴─┐    └───────────┘├───────────┤┌───────────┐\n",
       "«q_2: ──────■──────┤ RY(θ[18]) ├┤ RZ(θ[22]) ├────┤ X ├──────────■──────┤ RY(θ[26]) ├┤ RZ(θ[30]) ├\n",
       "«         ┌─┴─┐    ├───────────┤├───────────┤    └───┘        ┌─┴─┐    ├───────────┤├───────────┤\n",
       "«q_3: ────┤ X ├────┤ RY(θ[19]) ├┤ RZ(θ[23]) ├─────────────────┤ X ├────┤ RY(θ[27]) ├┤ RZ(θ[31]) ├\n",
       "«         └───┘    └───────────┘└───────────┘                 └───┘    └───────────┘└───────────┘"
      ]
     },
     "metadata": {},
     "output_type": "display_data"
    },
    {
     "name": "stdout",
     "output_type": "stream",
     "text": [
      "\n",
      "=============Full Entanglement:=============\n"
     ]
    },
    {
     "data": {
      "text/html": [
       "<pre style=\"word-wrap: normal;white-space: pre;background: #fff0;line-height: 1.1;font-family: &quot;Courier New&quot;,Courier,monospace\">     ┌──────────┐┌──────────┐               ┌──────────┐┌───────────┐                         »\n",
       "q_0: ┤ RY(θ[0]) ├┤ RZ(θ[4]) ├──■────■────■──┤ RY(θ[8]) ├┤ RZ(θ[12]) ├─────────────────────────»\n",
       "     ├──────────┤├──────────┤┌─┴─┐  │    │  └──────────┘└───────────┘┌──────────┐┌───────────┐»\n",
       "q_1: ┤ RY(θ[1]) ├┤ RZ(θ[5]) ├┤ X ├──┼────┼───────■────────────■──────┤ RY(θ[9]) ├┤ RZ(θ[13]) ├»\n",
       "     ├──────────┤├──────────┤└───┘┌─┴─┐  │     ┌─┴─┐          │      └──────────┘├───────────┤»\n",
       "q_2: ┤ RY(θ[2]) ├┤ RZ(θ[6]) ├─────┤ X ├──┼─────┤ X ├──────────┼───────────■──────┤ RY(θ[10]) ├»\n",
       "     ├──────────┤├──────────┤     └───┘┌─┴─┐   └───┘        ┌─┴─┐       ┌─┴─┐    ├───────────┤»\n",
       "q_3: ┤ RY(θ[3]) ├┤ RZ(θ[7]) ├──────────┤ X ├────────────────┤ X ├───────┤ X ├────┤ RY(θ[11]) ├»\n",
       "     └──────────┘└──────────┘          └───┘                └───┘       └───┘    └───────────┘»\n",
       "«                            ┌───────────┐┌───────────┐                                            »\n",
       "«q_0: ──────■────────■────■──┤ RY(θ[16]) ├┤ RZ(θ[20]) ├────────────────────────────────■────────■──»\n",
       "«         ┌─┴─┐      │    │  └───────────┘└───────────┘┌───────────┐┌───────────┐    ┌─┴─┐      │  »\n",
       "«q_1: ────┤ X ├──────┼────┼────────■────────────■──────┤ RY(θ[17]) ├┤ RZ(θ[21]) ├────┤ X ├──────┼──»\n",
       "«     ┌───┴───┴───┐┌─┴─┐  │      ┌─┴─┐          │      └───────────┘├───────────┤┌───┴───┴───┐┌─┴─┐»\n",
       "«q_2: ┤ RZ(θ[14]) ├┤ X ├──┼──────┤ X ├──────────┼────────────■──────┤ RY(θ[18]) ├┤ RZ(θ[22]) ├┤ X ├»\n",
       "«     ├───────────┤└───┘┌─┴─┐    └───┘        ┌─┴─┐        ┌─┴─┐    ├───────────┤├───────────┤└───┘»\n",
       "«q_3: ┤ RZ(θ[15]) ├─────┤ X ├─────────────────┤ X ├────────┤ X ├────┤ RY(θ[19]) ├┤ RZ(θ[23]) ├─────»\n",
       "«     └───────────┘     └───┘                 └───┘        └───┘    └───────────┘└───────────┘     »\n",
       "«          ┌───────────┐┌───────────┐                                       \n",
       "«q_0: ──■──┤ RY(θ[24]) ├┤ RZ(θ[28]) ├───────────────────────────────────────\n",
       "«       │  └───────────┘└───────────┘┌───────────┐┌───────────┐             \n",
       "«q_1: ──┼────────■────────────■──────┤ RY(θ[25]) ├┤ RZ(θ[29]) ├─────────────\n",
       "«       │      ┌─┴─┐          │      └───────────┘├───────────┤┌───────────┐\n",
       "«q_2: ──┼──────┤ X ├──────────┼────────────■──────┤ RY(θ[26]) ├┤ RZ(θ[30]) ├\n",
       "«     ┌─┴─┐    └───┘        ┌─┴─┐        ┌─┴─┐    ├───────────┤├───────────┤\n",
       "«q_3: ┤ X ├─────────────────┤ X ├────────┤ X ├────┤ RY(θ[27]) ├┤ RZ(θ[31]) ├\n",
       "«     └───┘                 └───┘        └───┘    └───────────┘└───────────┘</pre>"
      ],
      "text/plain": [
       "     ┌──────────┐┌──────────┐               ┌──────────┐┌───────────┐                         »\n",
       "q_0: ┤ RY(θ[0]) ├┤ RZ(θ[4]) ├──■────■────■──┤ RY(θ[8]) ├┤ RZ(θ[12]) ├─────────────────────────»\n",
       "     ├──────────┤├──────────┤┌─┴─┐  │    │  └──────────┘└───────────┘┌──────────┐┌───────────┐»\n",
       "q_1: ┤ RY(θ[1]) ├┤ RZ(θ[5]) ├┤ X ├──┼────┼───────■────────────■──────┤ RY(θ[9]) ├┤ RZ(θ[13]) ├»\n",
       "     ├──────────┤├──────────┤└───┘┌─┴─┐  │     ┌─┴─┐          │      └──────────┘├───────────┤»\n",
       "q_2: ┤ RY(θ[2]) ├┤ RZ(θ[6]) ├─────┤ X ├──┼─────┤ X ├──────────┼───────────■──────┤ RY(θ[10]) ├»\n",
       "     ├──────────┤├──────────┤     └───┘┌─┴─┐   └───┘        ┌─┴─┐       ┌─┴─┐    ├───────────┤»\n",
       "q_3: ┤ RY(θ[3]) ├┤ RZ(θ[7]) ├──────────┤ X ├────────────────┤ X ├───────┤ X ├────┤ RY(θ[11]) ├»\n",
       "     └──────────┘└──────────┘          └───┘                └───┘       └───┘    └───────────┘»\n",
       "«                            ┌───────────┐┌───────────┐                                            »\n",
       "«q_0: ──────■────────■────■──┤ RY(θ[16]) ├┤ RZ(θ[20]) ├────────────────────────────────■────────■──»\n",
       "«         ┌─┴─┐      │    │  └───────────┘└───────────┘┌───────────┐┌───────────┐    ┌─┴─┐      │  »\n",
       "«q_1: ────┤ X ├──────┼────┼────────■────────────■──────┤ RY(θ[17]) ├┤ RZ(θ[21]) ├────┤ X ├──────┼──»\n",
       "«     ┌───┴───┴───┐┌─┴─┐  │      ┌─┴─┐          │      └───────────┘├───────────┤┌───┴───┴───┐┌─┴─┐»\n",
       "«q_2: ┤ RZ(θ[14]) ├┤ X ├──┼──────┤ X ├──────────┼────────────■──────┤ RY(θ[18]) ├┤ RZ(θ[22]) ├┤ X ├»\n",
       "«     ├───────────┤└───┘┌─┴─┐    └───┘        ┌─┴─┐        ┌─┴─┐    ├───────────┤├───────────┤└───┘»\n",
       "«q_3: ┤ RZ(θ[15]) ├─────┤ X ├─────────────────┤ X ├────────┤ X ├────┤ RY(θ[19]) ├┤ RZ(θ[23]) ├─────»\n",
       "«     └───────────┘     └───┘                 └───┘        └───┘    └───────────┘└───────────┘     »\n",
       "«          ┌───────────┐┌───────────┐                                       \n",
       "«q_0: ──■──┤ RY(θ[24]) ├┤ RZ(θ[28]) ├───────────────────────────────────────\n",
       "«       │  └───────────┘└───────────┘┌───────────┐┌───────────┐             \n",
       "«q_1: ──┼────────■────────────■──────┤ RY(θ[25]) ├┤ RZ(θ[29]) ├─────────────\n",
       "«       │      ┌─┴─┐          │      └───────────┘├───────────┤┌───────────┐\n",
       "«q_2: ──┼──────┤ X ├──────────┼────────────■──────┤ RY(θ[26]) ├┤ RZ(θ[30]) ├\n",
       "«     ┌─┴─┐    └───┘        ┌─┴─┐        ┌─┴─┐    ├───────────┤├───────────┤\n",
       "«q_3: ┤ X ├─────────────────┤ X ├────────┤ X ├────┤ RY(θ[27]) ├┤ RZ(θ[31]) ├\n",
       "«     └───┘                 └───┘        └───┘    └───────────┘└───────────┘"
      ]
     },
     "metadata": {},
     "output_type": "display_data"
    },
    {
     "name": "stdout",
     "output_type": "stream",
     "text": [
      "\n"
     ]
    }
   ],
   "source": [
    "from qiskit.circuit.library import EfficientSU2\n",
    "entanglements = [\"linear\", \"full\"]\n",
    "for entanglement in entanglements:\n",
    "    form = EfficientSU2(num_qubits=4, entanglement=entanglement)\n",
    "    if entanglement == \"linear\":\n",
    "        print(\"=============Linear Entanglement:=============\")\n",
    "    else:\n",
    "        print(\"=============Full Entanglement:=============\")\n",
    "    # We initialize all parameters to 0 for this demonstration\n",
    "    display(form.draw(fold=100))\n",
    "    print()"
   ]
  },
  {
   "cell_type": "code",
   "execution_count": 14,
   "metadata": {},
   "outputs": [],
   "source": [
    "from qiskit.aqua.algorithms import VQE, NumPyEigensolver, NumPyMinimumEigensolver\n",
    "\n",
    "import matplotlib.pyplot as plt\n",
    "import numpy as np\n",
    "from qiskit.chemistry.components.variational_forms import UCCSD\n",
    "from qiskit.chemistry.components.initial_states import HartreeFock\n",
    "from qiskit.circuit.library import EfficientSU2\n",
    "from qiskit.aqua.components.optimizers import COBYLA, SPSA, SLSQP\n",
    "from qiskit.aqua.operators import Z2Symmetries\n",
    "from qiskit import IBMQ, BasicAer, Aer\n",
    "from qiskit.chemistry.drivers import PySCFDriver, UnitsType\n",
    "from qiskit.chemistry import FermionicOperator\n",
    "from qiskit import IBMQ\n",
    "from qiskit.aqua import QuantumInstance\n",
    "from qiskit.ignis.mitigation.measurement import CompleteMeasFitter\n",
    "from qiskit.providers.aer.noise import NoiseModel\n",
    "from qiskit.chemistry.applications import MolecularGroundStateEnergy\n",
    "from qiskit.chemistry.core import QubitMappingType\n",
    "\n",
    "\n",
    "import os \n",
    "import time\n",
    "os.environ['MPMATH_NOSAGE'] = 'true'"
   ]
  },
  {
   "cell_type": "code",
   "execution_count": 80,
   "metadata": {},
   "outputs": [],
   "source": [
    "def get_qubit_op(dist):\n",
    "    driver = PySCFDriver(atom=\"H .0 .0 .0; H .0 .0 \" + str(dist) + \"; H .0 .0 3.3\", \n",
    "                         unit=UnitsType.ANGSTROM, charge=0, spin=1, basis='sto3g')\n",
    "    molecule = driver.run()\n",
    "    repulsion_energy = molecule.nuclear_repulsion_energy\n",
    "    num_particles = molecule.num_alpha + molecule.num_beta\n",
    "    num_spin_orbitals = molecule.num_orbitals * 2\n",
    "    \n",
    "#     freeze_list = []\n",
    "#     remove_list = []    \n",
    "#     remove_list = [x % molecule.num_orbitals for x in remove_list]\n",
    "#     freeze_list = [x % molecule.num_orbitals for x in freeze_list]\n",
    "#     remove_list = [x - len(freeze_list) for x in remove_list]\n",
    "#     remove_list += [x + molecule.num_orbitals - len(freeze_list)  for x in remove_list]\n",
    "#     freeze_list += [x + molecule.num_orbitals for x in freeze_list]\n",
    "\n",
    "    ferOp = FermionicOperator(h1=molecule.one_body_integrals, h2=molecule.two_body_integrals)\n",
    "    \n",
    "#     ferOp, energy_shift = ferOp.fermion_mode_freezing(freeze_list)\n",
    "#     num_spin_orbitals -= len(freeze_list)\n",
    "#     num_particles -= len(freeze_list)\n",
    "#     ferOp = ferOp.fermion_mode_elimination(remove_list)\n",
    "#     num_spin_orbitals -= len(remove_list)\n",
    "    \n",
    "    map_type = 'jordan_wigner'\n",
    "    qubitOp = ferOp.mapping(map_type)\n",
    "#     qubitOp = Z2Symmetries.two_qubit_reduction(qubitOp, num_particles)\n",
    "#     shift = energy_shift + repulsion_energy\n",
    "    shift = repulsion_energy\n",
    "    return qubitOp, [molecule.num_alpha, molecule.num_beta], num_spin_orbitals, shift"
   ]
  },
  {
   "cell_type": "markdown",
   "metadata": {},
   "source": [
    "# This is the tutorial version vs MSGE"
   ]
  },
  {
   "cell_type": "code",
   "execution_count": null,
   "metadata": {},
   "outputs": [],
   "source": [
    "backend = BasicAer.get_backend(\"qasm_simulator\")\n",
    "dist = 0.5 \n",
    "optimizer = COBYLA(maxiter=1000, tol = 0.0000001)\n",
    "qubitOp, num_particles, num_spin_orbitals, shift = get_qubit_op(dist)\n",
    "num_particles = 3\n",
    "\n",
    "# VQE\n",
    "initial_state = HartreeFock(\n",
    "    num_spin_orbitals,\n",
    "    num_particles,\n",
    "    qubit_mapping='jordan_wigner',\n",
    "    two_qubit_reduction = False\n",
    ") \n",
    "var_form = UCCSD(\n",
    "    num_orbitals=num_spin_orbitals,\n",
    "    num_particles=num_particles,\n",
    "    initial_state=initial_state,\n",
    "    qubit_mapping='jordan_wigner',\n",
    "    two_qubit_reduction = False\n",
    ")\n",
    "vqe = VQE(qubitOp, var_form, optimizer)\n",
    "\n",
    "# Plain VQE\n",
    "prelim = vqe.run(backend)\n",
    "vqe_result = np.real(prelim['eigenvalue'] + shift)\n",
    "\n",
    "print('Plain VQE:', vqe_result)\n",
    "\n",
    "# # # # # # # # # # # \n",
    "# Exact results\n",
    "# # # # # # # # # # # \n",
    "\n",
    "result = NumPyMinimumEigensolver(qubitOp).run()\n",
    "print('Exact 1:', result['eigenvalue'].real + shift)\n",
    " \n",
    "# Now with NumPyMinimumEigensolver\n",
    "driver = PySCFDriver(atom=\"H .0 .0 .0;H .0 .0 0.5; H .0 .0 3.3\", \n",
    "                         unit=UnitsType.ANGSTROM, charge=0, spin=1, basis='sto3g')\n",
    "\n",
    "mgse = MolecularGroundStateEnergy(driver, NumPyMinimumEigensolver(),\n",
    "                                  qubit_mapping=QubitMappingType.JORDAN_WIGNER,\n",
    "                                  two_qubit_reduction=False, freeze_core=False,\n",
    "                                  z2symmetry_reduction=None)\n",
    "result = mgse.compute_energy()\n",
    "print('MGSE:', result)"
   ]
  },
  {
   "cell_type": "markdown",
   "metadata": {},
   "source": [
    "# Breaking down MSGE for VQE"
   ]
  },
  {
   "cell_type": "code",
   "execution_count": 113,
   "metadata": {},
   "outputs": [
    {
     "name": "stdout",
     "output_type": "stream",
     "text": [
      "{'optimal_parameters': {Parameter(θ[0]): 0.0, Parameter(θ[1]): 0.0, Parameter(θ[2]): 0.0, Parameter(θ[3]): 0.0, Parameter(θ[4]): 0.0, Parameter(θ[5]): 0.0, Parameter(θ[6]): 0.0, Parameter(θ[7]): 0.0}, 'optimal_point': array([0., 0., 0., 0., 0., 0., 0., 0.]), 'optimal_value': -2.4452862097590176, 'optimizer_evals': 9, 'optimizer_time': 19.369983196258545, 'eigenvalue': (-2.4452862097590176+0j), 'eigenstate': {'001001': 1024}, 'aux_operator_eigenvalues': array([[2.        ],\n",
      "       [0.0168457 ],\n",
      "       [0.        ],\n",
      "       [0.        ],\n",
      "       [0.        ],\n",
      "       [0.95132625]]), 'cost_function_evals': 9}\n"
     ]
    }
   ],
   "source": [
    "from qiskit.chemistry.core import Hamiltonian, TransformationType, ChemistryOperator\n",
    "\n",
    "backend = Aer.get_backend('qasm_simulator')\n",
    "\n",
    "def cb_create_solver(num_particles, num_orbitals,\n",
    "                        qubit_mapping, two_qubit_reduction, z2_symmetries):\n",
    "    initial_state = HartreeFock(num_orbitals, num_particles, qubit_mapping,\n",
    "                                two_qubit_reduction, z2_symmetries.sq_list)\n",
    "    var_form = UCCSD(num_orbitals=num_orbitals,\n",
    "                        num_particles=num_particles,\n",
    "                        initial_state=initial_state,\n",
    "                        qubit_mapping=qubit_mapping,\n",
    "                        two_qubit_reduction=two_qubit_reduction,\n",
    "                        z2_symmetries=z2_symmetries)\n",
    "\n",
    "    vqe = VQE(var_form=var_form, optimizer=SLSQP(maxiter=500), include_custom=True)\n",
    "    vqe.quantum_instance = backend\n",
    "    return vqe\n",
    "\n",
    "\n",
    "\n",
    "\n",
    "driver = PySCFDriver(atom=\"H .0 .0 .0; H .0 .0 0.5; H .0 .0 3.3\", \n",
    "                         unit=UnitsType.ANGSTROM, charge=0, spin=1, basis='sto3g')\n",
    "q_molecule = driver.run()\n",
    "\n",
    "\n",
    "core = Hamiltonian(transformation = TransformationType.FULL,\n",
    "                   qubit_mapping=QubitMappingType.JORDAN_WIGNER,\n",
    "                   two_qubit_reduction=False)\n",
    "operator, aux_operators = core.run(q_molecule)\n",
    "\n",
    "\n",
    "# num_particles = q_molecule.num_alpha + q_molecule.num_beta\n",
    "num_particles = [q_molecule.num_alpha, q_molecule.num_beta]\n",
    "num_spin_orbitals = q_molecule.num_orbitals * 2\n",
    "\n",
    "vqe = cb_create_solver(num_particles = 3,\n",
    "                          num_orbitals = num_spin_orbitals,\n",
    "                          qubit_mapping = 'jordan_wigner',\n",
    "                          two_qubit_reduction = False,\n",
    "                          z2_symmetries = core.molecule_info[ChemistryOperator.INFO_Z2SYMMETRIES])\n",
    "\n",
    "print(vqe.compute_minimum_eigenvalue(operator, aux_operators))\n"
   ]
  },
  {
   "cell_type": "markdown",
   "metadata": {},
   "source": [
    "# This is to compare the operator from Hamiltonian with the qubitOp from the get_qubit_op function"
   ]
  },
  {
   "cell_type": "code",
   "execution_count": 101,
   "metadata": {
    "scrolled": true
   },
   "outputs": [
    {
     "name": "stdout",
     "output_type": "stream",
     "text": [
      "MGSE: -1.5216362151039462\n"
     ]
    }
   ],
   "source": [
    "from qiskit.chemistry.core import (Hamiltonian, TransformationType, QubitMappingType,\n",
    "                                   ChemistryOperator, MolecularGroundStateResult)\n",
    "\n",
    "backend = BasicAer.get_backend(\"statevector_simulator\")\n",
    "dist = 0.5\n",
    "optimizer = SLSQP(maxiter=10)\n",
    "qubitOp, num_particles, num_spin_orbitals, shift = get_qubit_op(dist)\n",
    "\n",
    "\n",
    "driver = PySCFDriver(atom=\"H .0 .0 .0;H .0 .0 0.5; H .0 .0 3.3\", \n",
    "                         unit=UnitsType.ANGSTROM, charge=0, spin=1, basis='sto3g')\n",
    "\n",
    "\n",
    "core = Hamiltonian(qubit_mapping=QubitMappingType.JORDAN_WIGNER,two_qubit_reduction=False, freeze_core=False,\n",
    "                                  z2symmetry_reduction=None)\n",
    "operator, aux_operators = core.run(driver.run())\n",
    "\n",
    "# # # # # # # # # # # \n",
    "# Exact results\n",
    "# # # # # # # # # # # \n",
    "\n",
    "result = NumPyMinimumEigensolver(qubitOp).run()\n",
    "print('Exact 1:', result['eigenvalue'].real + shift)\n",
    "\n",
    "result2 = NumPyMinimumEigensolver(operator).run()\n",
    "print('Exact 2:', result2['eigenvalue'].real + shift)"
   ]
  },
  {
   "cell_type": "markdown",
   "metadata": {},
   "source": [
    "# This is my draft for final MSGE solution, testing backends\n"
   ]
  },
  {
   "cell_type": "code",
   "execution_count": 133,
   "metadata": {},
   "outputs": [
    {
     "name": "stderr",
     "output_type": "stream",
     "text": [
      "ibmqfactory.load_account:WARNING:2020-10-14 10:56:36,856: Credentials are already in use. The existing account in the session will be replaced.\n"
     ]
    },
    {
     "name": "stdout",
     "output_type": "stream",
     "text": [
      "vqe result:  === GROUND STATE ENERGY ===\n",
      " \n",
      "* Electronic ground state energy (Hartree): -2.27101984269\n",
      "  - computed part:      -2.27101984269\n",
      "  - frozen energy part: 0.0\n",
      "  - particle hole part: 0.0\n",
      "~ Nuclear repulsion energy (Hartree): 0.807128877262\n",
      "> Total ground state energy (Hartree): -1.463890965428\n",
      "  Measured:: # Particles: 3.000 S: 0.501 S^2: 0.752 M: 0.50000\n",
      " \n",
      "=== DIPOLE MOMENT ===\n",
      " \n",
      "* Electronic dipole moment (a.u.): [0.0  0.0  9.02199496]\n",
      "  - computed part:      [0.0  0.0  9.02199496]\n",
      "  - frozen energy part: [0.0  0.0  0.0]\n",
      "  - particle hole part: [0.0  0.0  0.0]\n",
      "~ Nuclear dipole moment (a.u.): [0.0  0.0  9.0706854]\n",
      "> Dipole moment (a.u.): [0.0  0.0  0.04869044]  Total: 0.04869044\n",
      "               (debye): [0.0  0.0  0.12375875]  Total: 0.12375875\n",
      "[-0.89844053  1.47290342  0.15403215  1.51613595  0.90604485  1.0114973\n",
      "  0.06911545 -0.65589388]\n",
      "\n",
      " \n",
      "\n"
     ]
    }
   ],
   "source": [
    "IBMQ.load_account()\n",
    "provider = IBMQ.get_provider(hub='ibm-q')\n",
    "backend = Aer.get_backend(\"qasm_simulator\")\n",
    "device = provider.get_backend(\"ibmq_16_melbourne\")\n",
    "coupling_map = device.configuration().coupling_map\n",
    "noise_model = NoiseModel.from_backend(device.properties())\n",
    "quantum_instance = QuantumInstance(backend=backend, \n",
    "                                   shots=10000, \n",
    "                                   noise_model=noise_model, \n",
    "                                   coupling_map=coupling_map,\n",
    "                                   measurement_error_mitigation_cls=CompleteMeasFitter,\n",
    "                                   cals_matrix_refresh_period=30)\n",
    "\n",
    "\n",
    "backend = Aer.get_backend('qasm_simulator')\n",
    "# backend = quantum_instance\n",
    "\n",
    "optimizer = SLSQP(maxiter=500)\n",
    "optimizer = SPSA(maxiter=500)\n",
    "\n",
    "def vqe_create_solver(num_particles, num_orbitals,\n",
    "                        qubit_mapping, two_qubit_reduction, z2_symmetries):\n",
    "    initial_state = HartreeFock(num_orbitals, num_particles, qubit_mapping,\n",
    "                                two_qubit_reduction, z2_symmetries.sq_list)\n",
    "    var_form = UCCSD(num_orbitals=num_orbitals,\n",
    "                        num_particles=num_particles,\n",
    "                        initial_state=initial_state,\n",
    "                        qubit_mapping=qubit_mapping,\n",
    "                        two_qubit_reduction=two_qubit_reduction,\n",
    "                        z2_symmetries=z2_symmetries)\n",
    "#     var_form = EfficientSU2(6, entanglement=\"linear\")\n",
    "\n",
    "    vqe = VQE(var_form=var_form, optimizer=optimizer, include_custom=True)\n",
    "    vqe.quantum_instance = backend\n",
    "    return vqe\n",
    "\n",
    "\n",
    "molecule_string = \"H .0 .0 .0; H .0 .0 1.5; H .0 .0 3.3\"\n",
    "driver = PySCFDriver(atom=molecule_string,\n",
    "                     unit=UnitsType.ANGSTROM, charge=0, spin=1, basis='sto-3g')\n",
    "\n",
    "\n",
    "# # # # # # # # # # # # # # # # # # # # # #\n",
    "# vqe Result\n",
    "# # # # # # # # # # # # # # # # # # # # # #\n",
    "msge = MolecularGroundStateEnergy(driver, qubit_mapping=QubitMappingType.JORDAN_WIGNER,\n",
    "                                  two_qubit_reduction=False, freeze_core=False,\n",
    "                                  z2symmetry_reduction=None)\n",
    "vqe_result = msge.compute_energy(vqe_create_solver)\n",
    "\n",
    "print('vqe result: ', vqe_result)\n",
    "\n",
    "print(msge.solver.optimal_params)\n",
    "\n",
    "print('\\n \\n')\n",
    "\n",
    "# # # # # # # # # # # # # # # # # # # # # # #\n",
    "# # Exact Result\n",
    "# # # # # # # # # # # # # # # # # # # # # # #\n",
    "# mgse = MolecularGroundStateEnergy(driver, NumPyMinimumEigensolver(),\n",
    "#                                   qubit_mapping=QubitMappingType.JORDAN_WIGNER,\n",
    "#                                   two_qubit_reduction=False, freeze_core=False,\n",
    "#                                   z2symmetry_reduction=None)\n",
    "# exact_result = mgse.compute_energy()\n",
    "# print('exact result: ', exact_result)\n",
    "\n",
    "\n",
    "\n"
   ]
  }
 ],
 "metadata": {
  "kernelspec": {
   "display_name": "Python 3",
   "language": "python",
   "name": "python3"
  },
  "language_info": {
   "codemirror_mode": {
    "name": "ipython",
    "version": 3
   },
   "file_extension": ".py",
   "mimetype": "text/x-python",
   "name": "python",
   "nbconvert_exporter": "python",
   "pygments_lexer": "ipython3",
   "version": "3.7.6"
  }
 },
 "nbformat": 4,
 "nbformat_minor": 4
}
